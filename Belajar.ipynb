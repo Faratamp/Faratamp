{
  "nbformat": 4,
  "nbformat_minor": 0,
  "metadata": {
    "colab": {
      "provenance": [],
      "toc_visible": true,
      "authorship_tag": "ABX9TyN4JkskoMRKGiv2R/XS0G5S",
      "include_colab_link": true
    },
    "kernelspec": {
      "name": "python3",
      "display_name": "Python 3"
    },
    "language_info": {
      "name": "python"
    }
  },
  "cells": [
    {
      "cell_type": "markdown",
      "metadata": {
        "id": "view-in-github",
        "colab_type": "text"
      },
      "source": [
        "<a href=\"https://colab.research.google.com/github/Faratamp/Faratamp/blob/main/Belajar.ipynb\" target=\"_parent\"><img src=\"https://colab.research.google.com/assets/colab-badge.svg\" alt=\"Open In Colab\"/></a>"
      ]
    },
    {
      "cell_type": "code",
      "source": [
        "#Hello World\n",
        "\n",
        "nama_anda = input(\"Siapakah Nama Anda?: \")\n",
        "halo_nama_anda = f\"halo \" + nama_anda.title()\n",
        "if nama_anda.isdecimal() == True:\n",
        "  print(halo_nama_anda,\"nama yang menarik\")\n",
        "elif any(char.isdigit() for char in nama_anda) == True:\n",
        "  print(halo_nama_anda,\"nama yang menarik\")\n",
        "else:\n",
        "  print(halo_nama_anda)\n",
        "\n"
      ],
      "metadata": {
        "colab": {
          "base_uri": "https://localhost:8080/"
        },
        "id": "JvAt6G2hzTrk",
        "outputId": "48cfe023-6183-412e-c451-e57966069b82"
      },
      "execution_count": 14,
      "outputs": [
        {
          "output_type": "stream",
          "name": "stdout",
          "text": [
            "Siapakah Nama Anda?: FaJaR RaMaDhAn\n",
            "halo Fajar Ramadhan\n"
          ]
        }
      ]
    }
  ]
}