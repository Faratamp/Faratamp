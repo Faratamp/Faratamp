{
  "nbformat": 4,
  "nbformat_minor": 0,
  "metadata": {
    "colab": {
      "provenance": [],
      "authorship_tag": "ABX9TyNzFe4bH8fN+ZbzTkqQWBj9",
      "include_colab_link": true
    },
    "kernelspec": {
      "name": "python3",
      "display_name": "Python 3"
    },
    "language_info": {
      "name": "python"
    }
  },
  "cells": [
    {
      "cell_type": "markdown",
      "metadata": {
        "id": "view-in-github",
        "colab_type": "text"
      },
      "source": [
        "<a href=\"https://colab.research.google.com/github/Faratamp/Faratamp/blob/main/Belajar.ipynb\" target=\"_parent\"><img src=\"https://colab.research.google.com/assets/colab-badge.svg\" alt=\"Open In Colab\"/></a>"
      ]
    },
    {
      "cell_type": "code",
      "source": [
        "#Hello World\n",
        "\n",
        "nama_anda = input(\"Siapakah Nama Anda?: \")\n",
        "halo_nama_anda = f\"halo \",nama_anda.title()\n",
        "print(halo_nama_anda)\n",
        "\n"
      ],
      "metadata": {
        "colab": {
          "base_uri": "https://localhost:8080/"
        },
        "id": "JvAt6G2hzTrk",
        "outputId": "683b8a37-975b-4d41-c25f-0febf708b418"
      },
      "execution_count": 5,
      "outputs": [
        {
          "output_type": "stream",
          "name": "stdout",
          "text": [
            "Siapakah Nama Anda?: Fajar\n",
            "('halo ', 'FAJAR')\n"
          ]
        }
      ]
    }
  ]
}